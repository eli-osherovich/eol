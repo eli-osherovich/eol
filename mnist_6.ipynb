{
  "nbformat": 4,
  "nbformat_minor": 0,
  "metadata": {
    "colab": {
      "name": "mnist-6",
      "provenance": [],
      "collapsed_sections": [],
      "authorship_tag": "ABX9TyOASNBz8Ok/dXGAbmFsVLQO",
      "include_colab_link": true
    },
    "kernelspec": {
      "name": "python3",
      "display_name": "Python 3"
    },
    "accelerator": "GPU"
  },
  "cells": [
    {
      "cell_type": "markdown",
      "metadata": {
        "id": "view-in-github",
        "colab_type": "text"
      },
      "source": [
        "<a href=\"https://colab.research.google.com/github/eli-osherovich/eol/blob/master/mnist_6.ipynb\" target=\"_parent\"><img src=\"https://colab.research.google.com/assets/colab-badge.svg\" alt=\"Open In Colab\"/></a>"
      ]
    },
    {
      "cell_type": "code",
      "metadata": {
        "id": "IkuNVlXOG6ip"
      },
      "source": [
        "import numpy as np\n",
        "\n",
        "import tensorflow as tf\n",
        "from tensorflow import keras\n",
        "from keras.datasets import mnist, fashion_mnist"
      ],
      "execution_count": 1,
      "outputs": []
    },
    {
      "cell_type": "code",
      "metadata": {
        "id": "6txAjVhtvhzv",
        "outputId": "5057c204-6f48-4696-ba2b-c3ca37e2eb1b",
        "colab": {
          "base_uri": "https://localhost:8080/"
        }
      },
      "source": [
        "!nvidia-smi -L"
      ],
      "execution_count": 2,
      "outputs": [
        {
          "output_type": "stream",
          "text": [
            "GPU 0: Tesla V100-SXM2-16GB (UUID: GPU-c79ae2d4-448b-8432-666f-b372ae8c8e4d)\n"
          ],
          "name": "stdout"
        }
      ]
    },
    {
      "cell_type": "code",
      "metadata": {
        "id": "ESOUnO4PFnMZ"
      },
      "source": [
        "tf.config.optimizer.set_jit(True)"
      ],
      "execution_count": 3,
      "outputs": []
    },
    {
      "cell_type": "code",
      "metadata": {
        "id": "f2x7Alg8Ggkr",
        "outputId": "f6273f0a-b38f-4cc2-b494-bec520963e57",
        "colab": {
          "base_uri": "https://localhost:8080/"
        }
      },
      "source": [
        "# the data, split between train and test sets\n",
        "dataset = fashion_mnist\n",
        "dataset = mnist\n",
        "\n",
        "\n",
        "(x_train, y_train), (x_test, y_test) = dataset.load_data()\n",
        "\n",
        "x_train = np.expand_dims(x_train, -1)\n",
        "x_test = np.expand_dims(x_test, -1)\n",
        "\n",
        "x_train = x_train.astype(np.float32)/255\n",
        "x_test = x_test.astype(np.float32)/255\n",
        "y_train = y_train.astype(np.int)\n",
        "y_test = y_test.astype(np.int)\n",
        "\n",
        "print('x_train shape:', x_train.shape)\n",
        "print('x_test shape:', x_test.shape)"
      ],
      "execution_count": 4,
      "outputs": [
        {
          "output_type": "stream",
          "text": [
            "x_train shape: (60000, 28, 28, 1)\n",
            "x_test shape: (10000, 28, 28, 1)\n"
          ],
          "name": "stdout"
        }
      ]
    },
    {
      "cell_type": "code",
      "metadata": {
        "id": "TWe0A9RaZ2r6"
      },
      "source": [
        "def gen_model(activation=\"relu\"):\n",
        "  model = tf.keras.models.Sequential()\n",
        "  model.add(tf.keras.Input(shape=(28, 28, 1)))\n",
        "\n",
        "  model.add(tf.keras.layers.Conv2D(128, 5, activation=activation, padding=\"same\"))\n",
        "  model.add(tf.keras.layers.AveragePooling2D(2))\n",
        "  \n",
        "  model.add(tf.keras.layers.Conv2D(128, 5, activation=activation))\n",
        "  model.add(tf.keras.layers.AveragePooling2D())\n",
        "\n",
        "  model.add(tf.keras.layers.Conv2D(128, 5, activation=activation))\n",
        "  \n",
        "  model.add(tf.keras.layers.Flatten())\n",
        "  model.add(tf.keras.layers.Dense(128, activation=activation))\n",
        "  model.add(tf.keras.layers.Dense(10))\n",
        "  return model\n",
        "\n",
        "def compile_model(model, lr=0.001):\n",
        "  model.compile(loss=keras.losses.SparseCategoricalCrossentropy(from_logits=True),\n",
        "                optimizer=keras.optimizers.Adam(learning_rate=lr),\n",
        "                metrics=['accuracy'])\n",
        "  \n",
        "\n",
        "early_stop = tf.keras.callbacks.EarlyStopping(\n",
        "      monitor='val_accuracy',\n",
        "      patience=20,\n",
        "      restore_best_weights=True,\n",
        ")"
      ],
      "execution_count": 5,
      "outputs": []
    },
    {
      "cell_type": "code",
      "metadata": {
        "id": "Z5NllJuVPPwt",
        "outputId": "ff09c365-5d9d-4717-f12e-c9d1f4fdbcb0",
        "colab": {
          "base_uri": "https://localhost:8080/"
        }
      },
      "source": [
        "%%time\n",
        "model = gen_model()\n",
        "compile_model(model)\n",
        "model.fit(x_train, y_train,\n",
        "          batch_size=128,\n",
        "          epochs=1000,\n",
        "          verbose=1,\n",
        "          callbacks=[early_stop],\n",
        "          validation_data=(x_test, y_test),\n",
        "          validation_batch_size=2048)\n"
      ],
      "execution_count": 6,
      "outputs": [
        {
          "output_type": "stream",
          "text": [
            "Epoch 1/1000\n",
            "469/469 [==============================] - 4s 9ms/step - loss: 0.1848 - accuracy: 0.9436 - val_loss: 0.0532 - val_accuracy: 0.9840\n",
            "Epoch 2/1000\n",
            "469/469 [==============================] - 4s 10ms/step - loss: 0.0515 - accuracy: 0.9838 - val_loss: 0.0459 - val_accuracy: 0.9847\n",
            "Epoch 3/1000\n",
            "469/469 [==============================] - 2s 5ms/step - loss: 0.0343 - accuracy: 0.9890 - val_loss: 0.0342 - val_accuracy: 0.9882\n",
            "Epoch 4/1000\n",
            "469/469 [==============================] - 3s 5ms/step - loss: 0.0267 - accuracy: 0.9913 - val_loss: 0.0239 - val_accuracy: 0.9918\n",
            "Epoch 5/1000\n",
            "469/469 [==============================] - 2s 5ms/step - loss: 0.0208 - accuracy: 0.9933 - val_loss: 0.0276 - val_accuracy: 0.9915\n",
            "Epoch 6/1000\n",
            "469/469 [==============================] - 2s 5ms/step - loss: 0.0181 - accuracy: 0.9942 - val_loss: 0.0316 - val_accuracy: 0.9905\n",
            "Epoch 7/1000\n",
            "469/469 [==============================] - 2s 5ms/step - loss: 0.0155 - accuracy: 0.9950 - val_loss: 0.0259 - val_accuracy: 0.9918\n",
            "Epoch 8/1000\n",
            "469/469 [==============================] - 3s 5ms/step - loss: 0.0125 - accuracy: 0.9959 - val_loss: 0.0312 - val_accuracy: 0.9900\n",
            "Epoch 9/1000\n",
            "469/469 [==============================] - 3s 5ms/step - loss: 0.0118 - accuracy: 0.9959 - val_loss: 0.0433 - val_accuracy: 0.9876\n",
            "Epoch 10/1000\n",
            "469/469 [==============================] - 2s 5ms/step - loss: 0.0110 - accuracy: 0.9964 - val_loss: 0.0269 - val_accuracy: 0.9918\n",
            "Epoch 11/1000\n",
            "469/469 [==============================] - 2s 5ms/step - loss: 0.0088 - accuracy: 0.9971 - val_loss: 0.0263 - val_accuracy: 0.9917\n",
            "Epoch 12/1000\n",
            "469/469 [==============================] - 2s 5ms/step - loss: 0.0065 - accuracy: 0.9978 - val_loss: 0.0260 - val_accuracy: 0.9929\n",
            "Epoch 13/1000\n",
            "469/469 [==============================] - 2s 5ms/step - loss: 0.0069 - accuracy: 0.9977 - val_loss: 0.0264 - val_accuracy: 0.9925\n",
            "Epoch 14/1000\n",
            "469/469 [==============================] - 2s 5ms/step - loss: 0.0072 - accuracy: 0.9976 - val_loss: 0.0348 - val_accuracy: 0.9909\n",
            "Epoch 15/1000\n",
            "469/469 [==============================] - 3s 5ms/step - loss: 0.0061 - accuracy: 0.9980 - val_loss: 0.0376 - val_accuracy: 0.9910\n",
            "Epoch 16/1000\n",
            "469/469 [==============================] - 2s 5ms/step - loss: 0.0049 - accuracy: 0.9983 - val_loss: 0.0425 - val_accuracy: 0.9899\n",
            "Epoch 17/1000\n",
            "469/469 [==============================] - 2s 5ms/step - loss: 0.0050 - accuracy: 0.9984 - val_loss: 0.0307 - val_accuracy: 0.9918\n",
            "Epoch 18/1000\n",
            "469/469 [==============================] - 2s 5ms/step - loss: 0.0047 - accuracy: 0.9986 - val_loss: 0.0284 - val_accuracy: 0.9928\n",
            "Epoch 19/1000\n",
            "469/469 [==============================] - 2s 5ms/step - loss: 0.0057 - accuracy: 0.9983 - val_loss: 0.0380 - val_accuracy: 0.9907\n",
            "Epoch 20/1000\n",
            "469/469 [==============================] - 2s 5ms/step - loss: 0.0053 - accuracy: 0.9983 - val_loss: 0.0361 - val_accuracy: 0.9911\n",
            "Epoch 21/1000\n",
            "469/469 [==============================] - 2s 5ms/step - loss: 0.0030 - accuracy: 0.9991 - val_loss: 0.0311 - val_accuracy: 0.9925\n",
            "Epoch 22/1000\n",
            "469/469 [==============================] - 2s 5ms/step - loss: 0.0045 - accuracy: 0.9987 - val_loss: 0.0305 - val_accuracy: 0.9924\n",
            "Epoch 23/1000\n",
            "469/469 [==============================] - 2s 5ms/step - loss: 0.0013 - accuracy: 0.9995 - val_loss: 0.0356 - val_accuracy: 0.9928\n",
            "Epoch 24/1000\n",
            "469/469 [==============================] - 2s 5ms/step - loss: 0.0034 - accuracy: 0.9988 - val_loss: 0.0370 - val_accuracy: 0.9925\n",
            "Epoch 25/1000\n",
            "469/469 [==============================] - 2s 5ms/step - loss: 0.0045 - accuracy: 0.9987 - val_loss: 0.0314 - val_accuracy: 0.9933\n",
            "Epoch 26/1000\n",
            "469/469 [==============================] - 2s 5ms/step - loss: 0.0031 - accuracy: 0.9991 - val_loss: 0.0477 - val_accuracy: 0.9907\n",
            "Epoch 27/1000\n",
            "469/469 [==============================] - 2s 5ms/step - loss: 0.0030 - accuracy: 0.9992 - val_loss: 0.0375 - val_accuracy: 0.9927\n",
            "Epoch 28/1000\n",
            "469/469 [==============================] - 2s 5ms/step - loss: 0.0028 - accuracy: 0.9993 - val_loss: 0.0331 - val_accuracy: 0.9931\n",
            "Epoch 29/1000\n",
            "469/469 [==============================] - 2s 5ms/step - loss: 0.0011 - accuracy: 0.9997 - val_loss: 0.0493 - val_accuracy: 0.9908\n",
            "Epoch 30/1000\n",
            "469/469 [==============================] - 2s 5ms/step - loss: 0.0030 - accuracy: 0.9990 - val_loss: 0.0325 - val_accuracy: 0.9933\n",
            "Epoch 31/1000\n",
            "469/469 [==============================] - 2s 5ms/step - loss: 0.0030 - accuracy: 0.9992 - val_loss: 0.0324 - val_accuracy: 0.9932\n",
            "Epoch 32/1000\n",
            "469/469 [==============================] - 2s 5ms/step - loss: 8.4384e-04 - accuracy: 0.9998 - val_loss: 0.0326 - val_accuracy: 0.9929\n",
            "Epoch 33/1000\n",
            "469/469 [==============================] - 2s 5ms/step - loss: 0.0042 - accuracy: 0.9989 - val_loss: 0.0362 - val_accuracy: 0.9929\n",
            "Epoch 34/1000\n",
            "469/469 [==============================] - 2s 5ms/step - loss: 0.0031 - accuracy: 0.9989 - val_loss: 0.0357 - val_accuracy: 0.9932\n",
            "Epoch 35/1000\n",
            "469/469 [==============================] - 2s 5ms/step - loss: 0.0011 - accuracy: 0.9998 - val_loss: 0.0455 - val_accuracy: 0.9923\n",
            "Epoch 36/1000\n",
            "469/469 [==============================] - 2s 5ms/step - loss: 0.0017 - accuracy: 0.9996 - val_loss: 0.0470 - val_accuracy: 0.9912\n",
            "Epoch 37/1000\n",
            "469/469 [==============================] - 2s 5ms/step - loss: 0.0040 - accuracy: 0.9987 - val_loss: 0.0417 - val_accuracy: 0.9917\n",
            "Epoch 38/1000\n",
            "469/469 [==============================] - 2s 5ms/step - loss: 0.0033 - accuracy: 0.9989 - val_loss: 0.0450 - val_accuracy: 0.9921\n",
            "Epoch 39/1000\n",
            "469/469 [==============================] - 2s 5ms/step - loss: 0.0013 - accuracy: 0.9997 - val_loss: 0.0387 - val_accuracy: 0.9928\n",
            "Epoch 40/1000\n",
            "469/469 [==============================] - 3s 5ms/step - loss: 6.4632e-04 - accuracy: 0.9998 - val_loss: 0.0432 - val_accuracy: 0.9930\n",
            "Epoch 41/1000\n",
            "469/469 [==============================] - 2s 5ms/step - loss: 0.0017 - accuracy: 0.9996 - val_loss: 0.0408 - val_accuracy: 0.9933\n",
            "Epoch 42/1000\n",
            "469/469 [==============================] - 2s 5ms/step - loss: 0.0027 - accuracy: 0.9993 - val_loss: 0.0345 - val_accuracy: 0.9925\n",
            "Epoch 43/1000\n",
            "469/469 [==============================] - 2s 5ms/step - loss: 0.0013 - accuracy: 0.9995 - val_loss: 0.0350 - val_accuracy: 0.9937\n",
            "Epoch 44/1000\n",
            "469/469 [==============================] - 2s 5ms/step - loss: 6.8218e-05 - accuracy: 1.0000 - val_loss: 0.0320 - val_accuracy: 0.9942\n",
            "Epoch 45/1000\n",
            "469/469 [==============================] - 2s 5ms/step - loss: 6.9023e-06 - accuracy: 1.0000 - val_loss: 0.0326 - val_accuracy: 0.9941\n",
            "Epoch 46/1000\n",
            "469/469 [==============================] - 2s 5ms/step - loss: 3.5325e-06 - accuracy: 1.0000 - val_loss: 0.0331 - val_accuracy: 0.9941\n",
            "Epoch 47/1000\n",
            "469/469 [==============================] - 2s 5ms/step - loss: 2.4878e-06 - accuracy: 1.0000 - val_loss: 0.0335 - val_accuracy: 0.9942\n",
            "Epoch 48/1000\n",
            "469/469 [==============================] - 2s 5ms/step - loss: 1.7672e-06 - accuracy: 1.0000 - val_loss: 0.0344 - val_accuracy: 0.9943\n",
            "Epoch 49/1000\n",
            "469/469 [==============================] - 2s 5ms/step - loss: 9.3796e-07 - accuracy: 1.0000 - val_loss: 0.0378 - val_accuracy: 0.9941\n",
            "Epoch 50/1000\n",
            "469/469 [==============================] - 2s 5ms/step - loss: 4.5499e-07 - accuracy: 1.0000 - val_loss: 0.0392 - val_accuracy: 0.9941\n",
            "Epoch 51/1000\n",
            "469/469 [==============================] - 2s 5ms/step - loss: 2.6958e-07 - accuracy: 1.0000 - val_loss: 0.0409 - val_accuracy: 0.9943\n",
            "Epoch 52/1000\n",
            "469/469 [==============================] - 3s 5ms/step - loss: 1.9471e-07 - accuracy: 1.0000 - val_loss: 0.0425 - val_accuracy: 0.9943\n",
            "Epoch 53/1000\n",
            "469/469 [==============================] - 2s 5ms/step - loss: 1.3383e-07 - accuracy: 1.0000 - val_loss: 0.0434 - val_accuracy: 0.9943\n",
            "Epoch 54/1000\n",
            "469/469 [==============================] - 2s 5ms/step - loss: 1.0459e-07 - accuracy: 1.0000 - val_loss: 0.0441 - val_accuracy: 0.9943\n",
            "Epoch 55/1000\n",
            "469/469 [==============================] - 2s 5ms/step - loss: 8.1048e-08 - accuracy: 1.0000 - val_loss: 0.0452 - val_accuracy: 0.9945\n",
            "Epoch 56/1000\n",
            "469/469 [==============================] - 2s 5ms/step - loss: 6.6690e-08 - accuracy: 1.0000 - val_loss: 0.0459 - val_accuracy: 0.9946\n",
            "Epoch 57/1000\n",
            "469/469 [==============================] - 3s 5ms/step - loss: 5.2014e-08 - accuracy: 1.0000 - val_loss: 0.0465 - val_accuracy: 0.9945\n",
            "Epoch 58/1000\n",
            "469/469 [==============================] - 3s 5ms/step - loss: 4.2501e-08 - accuracy: 1.0000 - val_loss: 0.0472 - val_accuracy: 0.9945\n",
            "Epoch 59/1000\n",
            "469/469 [==============================] - 2s 5ms/step - loss: 3.5552e-08 - accuracy: 1.0000 - val_loss: 0.0476 - val_accuracy: 0.9945\n",
            "Epoch 60/1000\n",
            "469/469 [==============================] - 2s 5ms/step - loss: 2.8630e-08 - accuracy: 1.0000 - val_loss: 0.0481 - val_accuracy: 0.9945\n",
            "Epoch 61/1000\n",
            "469/469 [==============================] - 2s 5ms/step - loss: 2.3182e-08 - accuracy: 1.0000 - val_loss: 0.0488 - val_accuracy: 0.9946\n",
            "Epoch 62/1000\n",
            "469/469 [==============================] - 3s 5ms/step - loss: 1.9181e-08 - accuracy: 1.0000 - val_loss: 0.0492 - val_accuracy: 0.9945\n",
            "Epoch 63/1000\n",
            "469/469 [==============================] - 2s 5ms/step - loss: 1.5732e-08 - accuracy: 1.0000 - val_loss: 0.0497 - val_accuracy: 0.9945\n",
            "Epoch 64/1000\n",
            "469/469 [==============================] - 3s 5ms/step - loss: 1.3020e-08 - accuracy: 1.0000 - val_loss: 0.0497 - val_accuracy: 0.9947\n",
            "Epoch 65/1000\n",
            "469/469 [==============================] - 2s 5ms/step - loss: 1.0884e-08 - accuracy: 1.0000 - val_loss: 0.0503 - val_accuracy: 0.9947\n",
            "Epoch 66/1000\n",
            "469/469 [==============================] - 3s 6ms/step - loss: 8.9963e-09 - accuracy: 1.0000 - val_loss: 0.0509 - val_accuracy: 0.9946\n",
            "Epoch 67/1000\n",
            "469/469 [==============================] - 3s 6ms/step - loss: 7.2280e-09 - accuracy: 1.0000 - val_loss: 0.0511 - val_accuracy: 0.9946\n",
            "Epoch 68/1000\n",
            "469/469 [==============================] - 3s 6ms/step - loss: 6.1810e-09 - accuracy: 1.0000 - val_loss: 0.0518 - val_accuracy: 0.9946\n",
            "Epoch 69/1000\n",
            "469/469 [==============================] - 3s 6ms/step - loss: 5.1002e-09 - accuracy: 1.0000 - val_loss: 0.0521 - val_accuracy: 0.9946\n",
            "Epoch 70/1000\n",
            "469/469 [==============================] - 3s 5ms/step - loss: 4.2061e-09 - accuracy: 1.0000 - val_loss: 0.0526 - val_accuracy: 0.9946\n",
            "Epoch 71/1000\n",
            "469/469 [==============================] - 2s 5ms/step - loss: 3.4928e-09 - accuracy: 1.0000 - val_loss: 0.0528 - val_accuracy: 0.9946\n",
            "Epoch 72/1000\n",
            "469/469 [==============================] - 2s 5ms/step - loss: 2.9127e-09 - accuracy: 1.0000 - val_loss: 0.0534 - val_accuracy: 0.9946\n",
            "Epoch 73/1000\n",
            "469/469 [==============================] - 3s 5ms/step - loss: 2.4299e-09 - accuracy: 1.0000 - val_loss: 0.0537 - val_accuracy: 0.9946\n",
            "Epoch 74/1000\n",
            "469/469 [==============================] - 3s 5ms/step - loss: 2.0405e-09 - accuracy: 1.0000 - val_loss: 0.0541 - val_accuracy: 0.9946\n",
            "Epoch 75/1000\n",
            "469/469 [==============================] - 2s 5ms/step - loss: 1.7107e-09 - accuracy: 1.0000 - val_loss: 0.0547 - val_accuracy: 0.9946\n",
            "Epoch 76/1000\n",
            "469/469 [==============================] - 2s 5ms/step - loss: 1.4504e-09 - accuracy: 1.0000 - val_loss: 0.0550 - val_accuracy: 0.9946\n",
            "Epoch 77/1000\n",
            "469/469 [==============================] - 2s 5ms/step - loss: 1.2060e-09 - accuracy: 1.0000 - val_loss: 0.0554 - val_accuracy: 0.9946\n",
            "Epoch 78/1000\n",
            "469/469 [==============================] - 2s 5ms/step - loss: 1.0133e-09 - accuracy: 1.0000 - val_loss: 0.0558 - val_accuracy: 0.9946\n",
            "Epoch 79/1000\n",
            "469/469 [==============================] - 3s 5ms/step - loss: 8.5433e-10 - accuracy: 1.0000 - val_loss: 0.0563 - val_accuracy: 0.9945\n",
            "Epoch 80/1000\n",
            "469/469 [==============================] - 2s 5ms/step - loss: 7.2916e-10 - accuracy: 1.0000 - val_loss: 0.0566 - val_accuracy: 0.9945\n",
            "Epoch 81/1000\n",
            "469/469 [==============================] - 2s 5ms/step - loss: 6.2784e-10 - accuracy: 1.0000 - val_loss: 0.0570 - val_accuracy: 0.9945\n",
            "Epoch 82/1000\n",
            "469/469 [==============================] - 2s 5ms/step - loss: 5.4638e-10 - accuracy: 1.0000 - val_loss: 0.0573 - val_accuracy: 0.9945\n",
            "Epoch 83/1000\n",
            "469/469 [==============================] - 2s 5ms/step - loss: 4.7088e-10 - accuracy: 1.0000 - val_loss: 0.0577 - val_accuracy: 0.9945\n",
            "Epoch 84/1000\n",
            "469/469 [==============================] - 2s 5ms/step - loss: 3.9736e-10 - accuracy: 1.0000 - val_loss: 0.0580 - val_accuracy: 0.9945\n",
            "CPU times: user 3min 5s, sys: 20.4 s, total: 3min 26s\n",
            "Wall time: 3min 38s\n"
          ],
          "name": "stdout"
        }
      ]
    },
    {
      "cell_type": "code",
      "metadata": {
        "id": "tf3PBVa9M2ry",
        "outputId": "9e131805-6aef-4bc8-92dd-16e40b2065a4",
        "colab": {
          "base_uri": "https://localhost:8080/"
        }
      },
      "source": [
        "score = model.evaluate(x_test, y_test, verbose=0)\n",
        "print('Test loss:', score[0])\n",
        "print('Test accuracy:', score[1])\n"
      ],
      "execution_count": 7,
      "outputs": [
        {
          "output_type": "stream",
          "text": [
            "Test loss: 0.04971187561750412\n",
            "Test accuracy: 0.9947000741958618\n"
          ],
          "name": "stdout"
        }
      ]
    },
    {
      "cell_type": "code",
      "metadata": {
        "id": "-lH8wWQdUm-P"
      },
      "source": [
        ""
      ],
      "execution_count": 7,
      "outputs": []
    }
  ]
}